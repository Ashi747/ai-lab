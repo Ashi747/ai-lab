{
 "cells": [
  {
   "cell_type": "code",
   "execution_count": 1,
   "metadata": {},
   "outputs": [],
   "source": [
    "import pandas as pd\n"
   ]
  },
  {
   "cell_type": "code",
   "execution_count": 2,
   "metadata": {},
   "outputs": [],
   "source": [
    "from sklearn.model_selection import train_test_split\n",
    "from sklearn.preprocessing import LabelEncoder\n"
   ]
  },
  {
   "cell_type": "code",
   "execution_count": 2,
   "metadata": {},
   "outputs": [
    {
     "name": "stdout",
     "output_type": "stream",
     "text": [
      "Requirement already satisfied: ipython[all] in c:\\users\\amuez\\anaconda3\\envs\\my aidi\\lib\\site-packages (7.18.1)\n",
      "Requirement already satisfied: setuptools>=18.5 in c:\\users\\amuez\\anaconda3\\envs\\my aidi\\lib\\site-packages (from ipython[all]) (49.6.0.post20200814)\n",
      "Requirement already satisfied: traitlets>=4.2 in c:\\users\\amuez\\anaconda3\\envs\\my aidi\\lib\\site-packages (from ipython[all]) (4.3.3)\n",
      "Requirement already satisfied: colorama; sys_platform == \"win32\" in c:\\users\\amuez\\anaconda3\\envs\\my aidi\\lib\\site-packages (from ipython[all]) (0.4.3)\n",
      "Requirement already satisfied: prompt-toolkit!=3.0.0,!=3.0.1,<3.1.0,>=2.0.0 in c:\\users\\amuez\\anaconda3\\envs\\my aidi\\lib\\site-packages (from ipython[all]) (3.0.7)\n",
      "Requirement already satisfied: backcall in c:\\users\\amuez\\anaconda3\\envs\\my aidi\\lib\\site-packages (from ipython[all]) (0.2.0)\n",
      "Requirement already satisfied: decorator in c:\\users\\amuez\\anaconda3\\envs\\my aidi\\lib\\site-packages (from ipython[all]) (4.4.2)\n",
      "Requirement already satisfied: pickleshare in c:\\users\\amuez\\anaconda3\\envs\\my aidi\\lib\\site-packages (from ipython[all]) (0.7.5)\n",
      "Requirement already satisfied: pygments in c:\\users\\amuez\\anaconda3\\envs\\my aidi\\lib\\site-packages (from ipython[all]) (2.6.1)\n",
      "Requirement already satisfied: jedi>=0.10 in c:\\users\\amuez\\anaconda3\\envs\\my aidi\\lib\\site-packages (from ipython[all]) (0.17.2)\n",
      "Collecting ipyparallel; extra == \"all\"\n",
      "  Downloading ipyparallel-6.3.0-py3-none-any.whl (199 kB)\n",
      "Collecting nose>=0.10.1; extra == \"all\"\n",
      "  Downloading nose-1.3.7-py3-none-any.whl (154 kB)\n",
      "Requirement already satisfied: numpy>=1.14; extra == \"all\" in c:\\users\\amuez\\anaconda3\\envs\\my aidi\\lib\\site-packages (from ipython[all]) (1.19.2)\n",
      "Collecting qtconsole; extra == \"all\"\n",
      "  Downloading qtconsole-5.0.2-py3-none-any.whl (119 kB)\n",
      "Collecting Sphinx>=1.3; extra == \"all\"\n",
      "  Downloading Sphinx-3.4.3-py3-none-any.whl (2.9 MB)\n",
      "Requirement already satisfied: notebook; extra == \"all\" in c:\\users\\amuez\\anaconda3\\envs\\my aidi\\lib\\site-packages (from ipython[all]) (6.1.1)\n",
      "Requirement already satisfied: testpath; extra == \"all\" in c:\\users\\amuez\\anaconda3\\envs\\my aidi\\lib\\site-packages (from ipython[all]) (0.4.4)\n",
      "Collecting ipywidgets; extra == \"all\"\n",
      "  Downloading ipywidgets-7.6.3-py2.py3-none-any.whl (121 kB)\n",
      "Requirement already satisfied: nbformat; extra == \"all\" in c:\\users\\amuez\\anaconda3\\envs\\my aidi\\lib\\site-packages (from ipython[all]) (5.0.7)\n",
      "Requirement already satisfied: requests; extra == \"all\" in c:\\users\\amuez\\anaconda3\\envs\\my aidi\\lib\\site-packages (from ipython[all]) (2.25.1)\n",
      "Requirement already satisfied: ipykernel; extra == \"all\" in c:\\users\\amuez\\anaconda3\\envs\\my aidi\\lib\\site-packages (from ipython[all]) (5.3.4)\n",
      "Requirement already satisfied: nbconvert; extra == \"all\" in c:\\users\\amuez\\anaconda3\\envs\\my aidi\\lib\\site-packages (from ipython[all]) (5.6.1)\n",
      "Requirement already satisfied: ipython-genutils in c:\\users\\amuez\\anaconda3\\envs\\my aidi\\lib\\site-packages (from traitlets>=4.2->ipython[all]) (0.2.0)\n",
      "Requirement already satisfied: six in c:\\users\\amuez\\anaconda3\\envs\\my aidi\\lib\\site-packages (from traitlets>=4.2->ipython[all]) (1.15.0)\n",
      "Requirement already satisfied: wcwidth in c:\\users\\amuez\\anaconda3\\envs\\my aidi\\lib\\site-packages (from prompt-toolkit!=3.0.0,!=3.0.1,<3.1.0,>=2.0.0->ipython[all]) (0.2.5)\n",
      "Requirement already satisfied: parso<0.8.0,>=0.7.0 in c:\\users\\amuez\\anaconda3\\envs\\my aidi\\lib\\site-packages (from jedi>=0.10->ipython[all]) (0.7.0)\n",
      "Requirement already satisfied: pyzmq>=13 in c:\\users\\amuez\\anaconda3\\envs\\my aidi\\lib\\site-packages (from ipyparallel; extra == \"all\"->ipython[all]) (19.0.1)\n",
      "Requirement already satisfied: tornado>=4 in c:\\users\\amuez\\anaconda3\\envs\\my aidi\\lib\\site-packages (from ipyparallel; extra == \"all\"->ipython[all]) (6.0.4)\n",
      "Requirement already satisfied: python-dateutil>=2.1 in c:\\users\\amuez\\anaconda3\\envs\\my aidi\\lib\\site-packages (from ipyparallel; extra == \"all\"->ipython[all]) (2.8.1)\n",
      "Requirement already satisfied: jupyter-client in c:\\users\\amuez\\anaconda3\\envs\\my aidi\\lib\\site-packages (from ipyparallel; extra == \"all\"->ipython[all]) (6.1.6)\n",
      "Requirement already satisfied: jupyter-core in c:\\users\\amuez\\anaconda3\\envs\\my aidi\\lib\\site-packages (from qtconsole; extra == \"all\"->ipython[all]) (4.6.3)\n",
      "Collecting qtpy\n",
      "  Downloading QtPy-1.9.0-py2.py3-none-any.whl (54 kB)\n",
      "Collecting imagesize\n",
      "  Downloading imagesize-1.2.0-py2.py3-none-any.whl (4.8 kB)\n",
      "Collecting babel>=1.3\n",
      "  Downloading Babel-2.9.0-py2.py3-none-any.whl (8.8 MB)\n",
      "Collecting snowballstemmer>=1.1\n",
      "  Downloading snowballstemmer-2.1.0-py2.py3-none-any.whl (93 kB)\n",
      "Requirement already satisfied: packaging in c:\\users\\amuez\\anaconda3\\envs\\my aidi\\lib\\site-packages (from Sphinx>=1.3; extra == \"all\"->ipython[all]) (20.4)\n",
      "Collecting sphinxcontrib-jsmath\n",
      "  Downloading sphinxcontrib_jsmath-1.0.1-py2.py3-none-any.whl (5.1 kB)\n",
      "Requirement already satisfied: Jinja2>=2.3 in c:\\users\\amuez\\anaconda3\\envs\\my aidi\\lib\\site-packages (from Sphinx>=1.3; extra == \"all\"->ipython[all]) (2.11.2)\n",
      "Collecting sphinxcontrib-htmlhelp\n",
      "  Downloading sphinxcontrib_htmlhelp-1.0.3-py2.py3-none-any.whl (96 kB)\n",
      "Collecting docutils>=0.12\n",
      "  Downloading docutils-0.16-py2.py3-none-any.whl (548 kB)\n",
      "Collecting sphinxcontrib-devhelp\n",
      "  Downloading sphinxcontrib_devhelp-1.0.2-py2.py3-none-any.whl (84 kB)\n",
      "Collecting sphinxcontrib-applehelp\n",
      "  Downloading sphinxcontrib_applehelp-1.0.2-py2.py3-none-any.whl (121 kB)\n",
      "Collecting sphinxcontrib-serializinghtml\n",
      "  Downloading sphinxcontrib_serializinghtml-1.1.4-py2.py3-none-any.whl (89 kB)\n",
      "Collecting sphinxcontrib-qthelp\n",
      "  Downloading sphinxcontrib_qthelp-1.0.3-py2.py3-none-any.whl (90 kB)\n",
      "Collecting alabaster<0.8,>=0.7\n",
      "  Downloading alabaster-0.7.12-py2.py3-none-any.whl (14 kB)\n",
      "Requirement already satisfied: terminado>=0.8.3 in c:\\users\\amuez\\anaconda3\\envs\\my aidi\\lib\\site-packages (from notebook; extra == \"all\"->ipython[all]) (0.8.3)\n",
      "Requirement already satisfied: Send2Trash in c:\\users\\amuez\\anaconda3\\envs\\my aidi\\lib\\site-packages (from notebook; extra == \"all\"->ipython[all]) (1.5.0)\n",
      "Requirement already satisfied: argon2-cffi in c:\\users\\amuez\\anaconda3\\envs\\my aidi\\lib\\site-packages (from notebook; extra == \"all\"->ipython[all]) (20.1.0)\n",
      "Requirement already satisfied: prometheus-client in c:\\users\\amuez\\anaconda3\\envs\\my aidi\\lib\\site-packages (from notebook; extra == \"all\"->ipython[all]) (0.8.0)\n",
      "Collecting widgetsnbextension~=3.5.0\n",
      "  Downloading widgetsnbextension-3.5.1-py2.py3-none-any.whl (2.2 MB)\n",
      "Collecting jupyterlab-widgets>=1.0.0; python_version >= \"3.6\"\n",
      "  Downloading jupyterlab_widgets-1.0.0-py3-none-any.whl (243 kB)\n",
      "Requirement already satisfied: jsonschema!=2.5.0,>=2.4 in c:\\users\\amuez\\anaconda3\\envs\\my aidi\\lib\\site-packages (from nbformat; extra == \"all\"->ipython[all]) (3.2.0)\n",
      "Requirement already satisfied: certifi>=2017.4.17 in c:\\users\\amuez\\anaconda3\\envs\\my aidi\\lib\\site-packages (from requests; extra == \"all\"->ipython[all]) (2020.12.5)\n",
      "Requirement already satisfied: urllib3<1.27,>=1.21.1 in c:\\users\\amuez\\anaconda3\\envs\\my aidi\\lib\\site-packages (from requests; extra == \"all\"->ipython[all]) (1.26.3)\n",
      "Requirement already satisfied: chardet<5,>=3.0.2 in c:\\users\\amuez\\anaconda3\\envs\\my aidi\\lib\\site-packages (from requests; extra == \"all\"->ipython[all]) (3.0.4)\n",
      "Requirement already satisfied: idna<3,>=2.5 in c:\\users\\amuez\\anaconda3\\envs\\my aidi\\lib\\site-packages (from requests; extra == \"all\"->ipython[all]) (2.10)\n",
      "Requirement already satisfied: entrypoints>=0.2.2 in c:\\users\\amuez\\anaconda3\\envs\\my aidi\\lib\\site-packages (from nbconvert; extra == \"all\"->ipython[all]) (0.3)\n",
      "Requirement already satisfied: defusedxml in c:\\users\\amuez\\anaconda3\\envs\\my aidi\\lib\\site-packages (from nbconvert; extra == \"all\"->ipython[all]) (0.6.0)\n",
      "Requirement already satisfied: mistune<2,>=0.8.1 in c:\\users\\amuez\\anaconda3\\envs\\my aidi\\lib\\site-packages (from nbconvert; extra == \"all\"->ipython[all]) (0.8.4)\n",
      "Requirement already satisfied: pandocfilters>=1.4.1 in c:\\users\\amuez\\anaconda3\\envs\\my aidi\\lib\\site-packages (from nbconvert; extra == \"all\"->ipython[all]) (1.4.2)\n",
      "Requirement already satisfied: bleach in c:\\users\\amuez\\anaconda3\\envs\\my aidi\\lib\\site-packages (from nbconvert; extra == \"all\"->ipython[all]) (3.1.5)\n",
      "Requirement already satisfied: pywin32>=1.0; sys_platform == \"win32\" in c:\\users\\amuez\\anaconda3\\envs\\my aidi\\lib\\site-packages (from jupyter-core->qtconsole; extra == \"all\"->ipython[all]) (227)\n",
      "Requirement already satisfied: pytz>=2015.7 in c:\\users\\amuez\\anaconda3\\envs\\my aidi\\lib\\site-packages (from babel>=1.3->Sphinx>=1.3; extra == \"all\"->ipython[all]) (2020.1)\n",
      "Requirement already satisfied: pyparsing>=2.0.2 in c:\\users\\amuez\\anaconda3\\envs\\my aidi\\lib\\site-packages (from packaging->Sphinx>=1.3; extra == \"all\"->ipython[all]) (2.4.7)\n",
      "Requirement already satisfied: MarkupSafe>=0.23 in c:\\users\\amuez\\anaconda3\\envs\\my aidi\\lib\\site-packages (from Jinja2>=2.3->Sphinx>=1.3; extra == \"all\"->ipython[all]) (1.1.1)\n",
      "Requirement already satisfied: cffi>=1.0.0 in c:\\users\\amuez\\anaconda3\\envs\\my aidi\\lib\\site-packages (from argon2-cffi->notebook; extra == \"all\"->ipython[all]) (1.14.2)\n",
      "Requirement already satisfied: attrs>=17.4.0 in c:\\users\\amuez\\anaconda3\\envs\\my aidi\\lib\\site-packages (from jsonschema!=2.5.0,>=2.4->nbformat; extra == \"all\"->ipython[all]) (20.1.0)\n",
      "Requirement already satisfied: pyrsistent>=0.14.0 in c:\\users\\amuez\\anaconda3\\envs\\my aidi\\lib\\site-packages (from jsonschema!=2.5.0,>=2.4->nbformat; extra == \"all\"->ipython[all]) (0.16.0)\n",
      "Requirement already satisfied: webencodings in c:\\users\\amuez\\anaconda3\\envs\\my aidi\\lib\\site-packages (from bleach->nbconvert; extra == \"all\"->ipython[all]) (0.5.1)\n",
      "Requirement already satisfied: pycparser in c:\\users\\amuez\\anaconda3\\envs\\my aidi\\lib\\site-packages (from cffi>=1.0.0->argon2-cffi->notebook; extra == \"all\"->ipython[all]) (2.20)\n",
      "Installing collected packages: ipyparallel, nose, qtpy, qtconsole, imagesize, babel, snowballstemmer, sphinxcontrib-jsmath, sphinxcontrib-htmlhelp, docutils, sphinxcontrib-devhelp, sphinxcontrib-applehelp, sphinxcontrib-serializinghtml, sphinxcontrib-qthelp, alabaster, Sphinx, widgetsnbextension, jupyterlab-widgets, ipywidgets\n",
      "Successfully installed Sphinx-3.4.3 alabaster-0.7.12 babel-2.9.0 docutils-0.16 imagesize-1.2.0 ipyparallel-6.3.0 ipywidgets-7.6.3 jupyterlab-widgets-1.0.0 nose-1.3.7 qtconsole-5.0.2 qtpy-1.9.0 snowballstemmer-2.1.0 sphinxcontrib-applehelp-1.0.2 sphinxcontrib-devhelp-1.0.2 sphinxcontrib-htmlhelp-1.0.3 sphinxcontrib-jsmath-1.0.1 sphinxcontrib-qthelp-1.0.3 sphinxcontrib-serializinghtml-1.1.4 widgetsnbextension-3.5.1\n"
     ]
    }
   ],
   "source": [
    "! pip install ipython[all]"
   ]
  },
  {
   "cell_type": "code",
   "execution_count": null,
   "metadata": {},
   "outputs": [],
   "source": [
    "import tensorflow"
   ]
  },
  {
   "cell_type": "code",
   "execution_count": null,
   "metadata": {},
   "outputs": [],
   "source": []
  }
 ],
 "metadata": {
  "kernelspec": {
   "display_name": "Python 3",
   "language": "python",
   "name": "python3"
  },
  "language_info": {
   "codemirror_mode": {
    "name": "ipython",
    "version": 3
   },
   "file_extension": ".py",
   "mimetype": "text/x-python",
   "name": "python",
   "nbconvert_exporter": "python",
   "pygments_lexer": "ipython3",
   "version": "3.8.5"
  }
 },
 "nbformat": 4,
 "nbformat_minor": 4
}
